{
 "cells": [
  {
   "cell_type": "code",
   "execution_count": 1,
   "id": "e2b8be10-124c-41a2-91e7-bb673d5be1a3",
   "metadata": {
    "tags": []
   },
   "outputs": [],
   "source": [
    "from preprocessing import Data_preparation\n",
    "from preprocessing import Augmentations"
   ]
  },
  {
   "cell_type": "code",
   "execution_count": 2,
   "id": "6ce8593b-eb2e-4c8c-90e0-0bd7ec00f761",
   "metadata": {
    "tags": []
   },
   "outputs": [],
   "source": [
    "#Path of the original NetCDF\n",
    "path = '../data/Chennai_netcdf_20170129_full_attributes.nc'"
   ]
  },
  {
   "cell_type": "code",
   "execution_count": null,
   "id": "99b785f0-ec35-465d-b8f8-5f45a48d92dd",
   "metadata": {
    "tags": []
   },
   "outputs": [],
   "source": [
    "#Obtain entropy and mask\n",
    "#If you want to change the entropy layer please \n",
    "#change the line 34 of the preprocessing.py script as follows\n",
    "#entropy =dataset.variables[<your_layer_name>].values \n",
    "entropy, l1_y=Data_preparation.read_data(path)"
   ]
  },
  {
   "cell_type": "code",
   "execution_count": null,
   "id": "d79b4bec-b8bb-42ce-8b5e-6ec7f76e5cc3",
   "metadata": {
    "tags": []
   },
   "outputs": [],
   "source": [
    "#Forlder where the data will be stored \n",
    "data_folder = '../data/'"
   ]
  },
  {
   "cell_type": "code",
   "execution_count": null,
   "id": "13e26648-a007-4aa0-84fc-8a9b1a0a290c",
   "metadata": {
    "tags": []
   },
   "outputs": [],
   "source": [
    "#Get subtiles both for the selected layer and the mask\n",
    "data_preparation.get_tiles(entropy,l1_y,data_folder)"
   ]
  },
  {
   "cell_type": "code",
   "execution_count": null,
   "id": "d173b5d3-f3c9-462b-a13e-940299e524a3",
   "metadata": {},
   "outputs": [],
   "source": [
    "### A manual annotation from subtiles of mask must be performed in order to get the\n",
    "### XML files in pascalVOC format"
   ]
  },
  {
   "cell_type": "code",
   "execution_count": 3,
   "id": "e94a4503-4f6f-4bcf-b363-d1bead3ae01d",
   "metadata": {
    "tags": []
   },
   "outputs": [],
   "source": [
    "#This is performed for each one of the four subtiles\n",
    "#Could be optimized with a for loop in case of multiple images\n",
    "labels = '../data/y_0.xml'\n",
    "labels_yolo = '../data_test/0.txt'"
   ]
  },
  {
   "cell_type": "code",
   "execution_count": 4,
   "id": "96b15894-9b91-4fcf-8182-db724d36dc21",
   "metadata": {
    "tags": []
   },
   "outputs": [],
   "source": [
    "#Convert annotations from pascalVOC to yolo\n",
    "coord,img_w, img_h = Augmentations.pascalVOC_yolo(labels,labels_yolo)"
   ]
  },
  {
   "cell_type": "code",
   "execution_count": 5,
   "id": "933ec9ae-f544-469d-9d26-14c6c7743763",
   "metadata": {
    "tags": []
   },
   "outputs": [],
   "source": [
    "#Convert annotations from yolo to coco\n",
    "bboxes, category_ids = Augmentations.yolo_coco(labels_yolo,img_w,img_h)\n"
   ]
  },
  {
   "cell_type": "code",
   "execution_count": 6,
   "id": "51d1f790-c34c-46b7-b90e-00c9e846bf3c",
   "metadata": {
    "tags": []
   },
   "outputs": [],
   "source": [
    "#Define transformations for augmented data\n",
    "transform0, transform1, transform2, transform3, transform4, transform5, transform6, transform7, transform8, transform9, transform10, transform11= Augmentations.augmentations_definition()"
   ]
  },
  {
   "cell_type": "code",
   "execution_count": 7,
   "id": "450ebd19-9867-490b-95c0-62bf2a54c0e7",
   "metadata": {
    "tags": []
   },
   "outputs": [],
   "source": [
    "#List of transformations\n",
    "\n",
    "transforms = [transform0, transform1, transform2, transform3, transform4, transform5, transform6, transform7, transform8, transform9, transform10, transform11]"
   ]
  },
  {
   "cell_type": "code",
   "execution_count": 8,
   "id": "198fe9a7-f751-4162-ac6d-50a6a71ca0d5",
   "metadata": {
    "tags": []
   },
   "outputs": [],
   "source": [
    "#Starting transformation\n",
    "c=0"
   ]
  },
  {
   "cell_type": "code",
   "execution_count": 9,
   "id": "a384e48d-4bef-4caa-a6c0-26c6ed9c1fc0",
   "metadata": {
    "tags": []
   },
   "outputs": [],
   "source": [
    "#Image to be augmented\n",
    "img_path = '../data_test/x_0.png'"
   ]
  },
  {
   "cell_type": "code",
   "execution_count": 10,
   "id": "1febd027-bfd4-4998-9e75-954253f19f5f",
   "metadata": {
    "tags": []
   },
   "outputs": [
    {
     "name": "stdout",
     "output_type": "stream",
     "text": [
      "0\n",
      "1\n",
      "2\n",
      "3\n",
      "4\n",
      "Transformations achieved until transformation # 4  please update c and the transformations list, commenting the transformations already performed\n"
     ]
    }
   ],
   "source": [
    "#Perform augmentations\n",
    "Augmentations.perform_augmentations(transforms,img_path, bboxes, category_ids,c)"
   ]
  },
  {
   "cell_type": "code",
   "execution_count": null,
   "id": "17d8575c-4ee2-424a-aaf8-e9a05cae1b32",
   "metadata": {},
   "outputs": [],
   "source": []
  }
 ],
 "metadata": {
  "kernelspec": {
   "display_name": "yolo_env_3_test",
   "language": "python",
   "name": "conda-env-yolo_env_3_test-py"
  },
  "language_info": {
   "codemirror_mode": {
    "name": "ipython",
    "version": 3
   },
   "file_extension": ".py",
   "mimetype": "text/x-python",
   "name": "python",
   "nbconvert_exporter": "python",
   "pygments_lexer": "ipython3",
   "version": "3.11.4"
  }
 },
 "nbformat": 4,
 "nbformat_minor": 5
}
