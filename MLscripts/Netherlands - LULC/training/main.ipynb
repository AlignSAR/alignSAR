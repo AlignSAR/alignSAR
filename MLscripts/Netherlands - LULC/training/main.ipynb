{
 "cells": [
  {
   "cell_type": "code",
   "execution_count": 1,
   "id": "60696df1",
   "metadata": {
    "tags": []
   },
   "outputs": [
    {
     "name": "stderr",
     "output_type": "stream",
     "text": [
      "2023-12-14 16:28:08.601302: I tensorflow/core/platform/cpu_feature_guard.cc:193] This TensorFlow binary is optimized with oneAPI Deep Neural Network Library (oneDNN) to use the following CPU instructions in performance-critical operations:  AVX2 AVX512F AVX512_VNNI FMA\n",
      "To enable them in other operations, rebuild TensorFlow with the appropriate compiler flags.\n",
      "2023-12-14 16:28:08.812815: I tensorflow/core/util/port.cc:104] oneDNN custom operations are on. You may see slightly different numerical results due to floating-point round-off errors from different computation orders. To turn them off, set the environment variable `TF_ENABLE_ONEDNN_OPTS=0`.\n",
      "2023-12-14 16:28:11.082043: W tensorflow/compiler/xla/stream_executor/platform/default/dso_loader.cc:64] Could not load dynamic library 'libnvinfer.so.7'; dlerror: libnvinfer.so.7: cannot open shared object file: No such file or directory; LD_LIBRARY_PATH: /usr/lib:/usr/lib/x86_64-linux-gnu\n",
      "2023-12-14 16:28:11.082191: W tensorflow/compiler/xla/stream_executor/platform/default/dso_loader.cc:64] Could not load dynamic library 'libnvinfer_plugin.so.7'; dlerror: libnvinfer_plugin.so.7: cannot open shared object file: No such file or directory; LD_LIBRARY_PATH: /usr/lib:/usr/lib/x86_64-linux-gnu\n",
      "2023-12-14 16:28:11.082200: W tensorflow/compiler/tf2tensorrt/utils/py_utils.cc:38] TF-TRT Warning: Cannot dlopen some TensorRT libraries. If you would like to use Nvidia GPU with TensorRT, please make sure the missing libraries mentioned above are installed properly.\n"
     ]
    }
   ],
   "source": [
    "from train import Train"
   ]
  },
  {
   "cell_type": "code",
   "execution_count": 2,
   "id": "0b91f466-2691-46c0-87db-def4e765e3d1",
   "metadata": {
    "tags": []
   },
   "outputs": [],
   "source": [
    "# path: Path where the processed dataset is found\n",
    "# features to train the model, in this case we use the first 10 layers\n",
    "\n",
    "path = '../data3/undersampled_max_ent.csv'\n",
    "features = ['VV amplitude (linear)', 'VH amplitude (linear)',\n",
    "       'VV interferometric phase (radians)', 'VV coherence',\n",
    "       'Intensity summation', 'Intensity difference (dual-pol difference)',\n",
    "       'Intensity ratio (dual-pol power ratio)',\n",
    "       'Cross-pol correlation coefficient', 'Cross-pol cross product',\n",
    "       'Entropy']"
   ]
  },
  {
   "cell_type": "code",
   "execution_count": 3,
   "id": "dbc1ccfa-bd65-4bb8-9f9e-fd6aba427b18",
   "metadata": {
    "tags": []
   },
   "outputs": [],
   "source": [
    "#Read the data\n",
    "#X: input data as a numpy array\n",
    "#dummy_y: Target data as categorical numpy array\n",
    "X,dummy_y=Train.read_data(path,features)"
   ]
  },
  {
   "cell_type": "code",
   "execution_count": 6,
   "id": "f3e6175a-833f-4309-8059-d9ea8937e15e",
   "metadata": {
    "tags": []
   },
   "outputs": [
    {
     "name": "stderr",
     "output_type": "stream",
     "text": [
      "2023-12-14 17:10:34.750936: I tensorflow/compiler/xla/stream_executor/cuda/cuda_gpu_executor.cc:981] successful NUMA node read from SysFS had negative value (-1), but there must be at least one NUMA node, so returning NUMA node zero\n",
      "2023-12-14 17:10:34.791248: I tensorflow/compiler/xla/stream_executor/cuda/cuda_gpu_executor.cc:981] successful NUMA node read from SysFS had negative value (-1), but there must be at least one NUMA node, so returning NUMA node zero\n",
      "2023-12-14 17:10:34.791586: I tensorflow/compiler/xla/stream_executor/cuda/cuda_gpu_executor.cc:981] successful NUMA node read from SysFS had negative value (-1), but there must be at least one NUMA node, so returning NUMA node zero\n",
      "2023-12-14 17:10:34.792394: I tensorflow/core/platform/cpu_feature_guard.cc:193] This TensorFlow binary is optimized with oneAPI Deep Neural Network Library (oneDNN) to use the following CPU instructions in performance-critical operations:  AVX2 AVX512F AVX512_VNNI FMA\n",
      "To enable them in other operations, rebuild TensorFlow with the appropriate compiler flags.\n",
      "2023-12-14 17:10:34.792912: I tensorflow/compiler/xla/stream_executor/cuda/cuda_gpu_executor.cc:981] successful NUMA node read from SysFS had negative value (-1), but there must be at least one NUMA node, so returning NUMA node zero\n",
      "2023-12-14 17:10:34.793320: I tensorflow/compiler/xla/stream_executor/cuda/cuda_gpu_executor.cc:981] successful NUMA node read from SysFS had negative value (-1), but there must be at least one NUMA node, so returning NUMA node zero\n",
      "2023-12-14 17:10:34.793652: I tensorflow/compiler/xla/stream_executor/cuda/cuda_gpu_executor.cc:981] successful NUMA node read from SysFS had negative value (-1), but there must be at least one NUMA node, so returning NUMA node zero\n",
      "2023-12-14 17:10:35.722708: I tensorflow/compiler/xla/stream_executor/cuda/cuda_gpu_executor.cc:981] successful NUMA node read from SysFS had negative value (-1), but there must be at least one NUMA node, so returning NUMA node zero\n",
      "2023-12-14 17:10:35.723009: I tensorflow/compiler/xla/stream_executor/cuda/cuda_gpu_executor.cc:981] successful NUMA node read from SysFS had negative value (-1), but there must be at least one NUMA node, so returning NUMA node zero\n",
      "2023-12"
     ]
    },
    {
     "name": "stdout",
     "output_type": "stream",
     "text": [
      "Model: \"sequential\"\n",
      "_________________________________________________________________\n",
      " Layer (type)                Output Shape              Param #   \n",
      "=================================================================\n",
      " dense (Dense)               (None, 128)               1408      \n",
      "                                                                 \n",
      " dense_1 (Dense)             (None, 64)                8256      \n",
      "                                                                 \n",
      " dense_2 (Dense)             (None, 64)                4160      \n",
      "                                                                 \n",
      " dense_3 (Dense)             (None, 64)                4160      \n",
      "                                                                 \n",
      " dense_4 (Dense)             (None, 32)                2080      \n",
      "                                                                 \n",
      " dense_5 (Dense)             (None, 16)                528       \n",
      "                                                                 \n",
      " dense_6 (Dense)             (None, 8)                 136       \n",
      "                                                                 \n",
      " dense_7 (Dense)             (None, 4)                 36        \n",
      "                                                                 \n",
      "=================================================================\n",
      "Total params: 20,764\n",
      "Trainable params: 20,764\n",
      "Non-trainable params: 0\n",
      "_________________________________________________________________\n"
     ]
    },
    {
     "name": "stderr",
     "output_type": "stream",
     "text": [
      "-14 17:10:35.723225: I tensorflow/compiler/xla/stream_executor/cuda/cuda_gpu_executor.cc:981] successful NUMA node read from SysFS had negative value (-1), but there must be at least one NUMA node, so returning NUMA node zero\n",
      "2023-12-14 17:10:35.723399: I tensorflow/core/common_runtime/gpu/gpu_device.cc:1613] Created device /job:localhost/replica:0/task:0/device:GPU:0 with 13781 MB memory:  -> device: 0, name: Tesla T4, pci bus id: 0000:00:1e.0, compute capability: 7.5\n"
     ]
    }
   ],
   "source": [
    "#Define the model architecture, it can be changed by modifying the function Train.model_arch\n",
    "#by adding/removing layers, changing the activation function, etc\n",
    "model = Train.model_arch(X)"
   ]
  },
  {
   "cell_type": "code",
   "execution_count": 10,
   "id": "5d071117-52f5-49a7-8a57-cdd79d597c73",
   "metadata": {
    "tags": []
   },
   "outputs": [],
   "source": [
    "#epochs: number of iterations to run the model\n",
    "\n",
    "#batch_size: number of images to pass together to the model at the same time\n",
    "#if you get runtime error while running the next cell (Train.fit_model) you must lower\n",
    "#the number of the batch_size until it runs\n",
    "\n",
    "#model_path: path where you will save the trained model\n",
    "\n",
    "epochs = 20000\n",
    "batch_size = 100\n",
    "model_path = 'model_test.hdf5'"
   ]
  },
  {
   "cell_type": "code",
   "execution_count": 11,
   "id": "042495e4-7a61-4626-a795-281bf5e51de4",
   "metadata": {
    "tags": []
   },
   "outputs": [
    {
     "name": "stdout",
     "output_type": "stream",
     "text": [
      "Epoch 1/20\n",
      "37/37 [==============================] - 0s 8ms/step - loss: 1.2963 - accuracy: 0.3751 - val_loss: 1.2914 - val_accuracy: 0.3838\n",
      "Epoch 2/20\n",
      "37/37 [==============================] - 0s 9ms/step - loss: 1.2637 - accuracy: 0.3877 - val_loss: 1.2731 - val_accuracy: 0.4101\n",
      "Epoch 3/20\n",
      "37/37 [==============================] - 0s 9ms/step - loss: 1.2582 - accuracy: 0.3932 - val_loss: 1.2918 - val_accuracy: 0.3487\n",
      "Epoch 4/20\n",
      "37/37 [==============================] - 0s 10ms/step - loss: 1.2611 - accuracy: 0.4009 - val_loss: 1.2630 - val_accuracy: 0.3991\n",
      "Epoch 5/20\n",
      "37/37 [==============================] - 0s 11ms/step - loss: 1.2513 - accuracy: 0.4053 - val_loss: 1.2596 - val_accuracy: 0.3914\n",
      "Epoch 6/20\n",
      "37/37 [==============================] - 0s 11ms/step - loss: 1.2459 - accuracy: 0.4113 - val_loss: 1.2647 - val_accuracy: 0.3717\n",
      "Epoch 7/20\n",
      "37/37 [==============================] - 0s 9ms/step - loss: 1.2330 - accuracy: 0.3992 - val_loss: 1.2587 - val_accuracy: 0.4079\n",
      "Epoch 8/20\n",
      "37/37 [==============================] - 0s 8ms/step - loss: 1.2340 - accuracy: 0.3948 - val_loss: 1.2294 - val_accuracy: 0.4112\n",
      "Epoch 9/20\n",
      "37/37 [==============================] - 0s 10ms/step - loss: 1.2260 - accuracy: 0.4066 - val_loss: 1.2362 - val_accuracy: 0.3904\n",
      "Epoch 10/20\n",
      "37/37 [==============================] - 0s 7ms/step - loss: 1.2217 - accuracy: 0.4042 - val_loss: 1.2331 - val_accuracy: 0.3904\n",
      "Epoch 11/20\n",
      "37/37 [==============================] - 1s 14ms/step - loss: 1.2086 - accuracy: 0.4168 - val_loss: 1.2070 - val_accuracy: 0.4013\n",
      "Epoch 12/20\n",
      "37/37 [==============================] - 1s 14ms/step - loss: 1.1913 - accuracy: 0.4280 - val_loss: 1.1813 - val_accuracy: 0.4243\n",
      "Epoch 13/20\n",
      "37/37 [==============================] - 0s 9ms/step - loss: 1.1982 - accuracy: 0.4245 - val_loss: 1.1792 - val_accuracy: 0.4386\n",
      "Epoch 14/20\n",
      "37/37 [==============================] - 0s 13ms/step - loss: 1.1917 - accuracy: 0.4401 - val_loss: 1.1947 - val_accuracy: 0.4539\n",
      "Epoch 15/20\n",
      "37/37 [==============================] - 0s 9ms/step - loss: 1.1917 - accuracy: 0.4272 - val_loss: 1.1849 - val_accuracy: 0.4561\n",
      "Epoch 16/20\n",
      "37/37 [==============================] - 0s 8ms/step - loss: 1.2045 - accuracy: 0.4179 - val_loss: 1.1836 - val_accuracy: 0.4276\n",
      "Epoch 17/20\n",
      "37/37 [==============================] - 0s 9ms/step - loss: 1.1839 - accuracy: 0.4354 - val_loss: 1.1677 - val_accuracy: 0.4583\n",
      "Epoch 18/20\n",
      "37/37 [==============================] - 0s 9ms/step - loss: 1.1826 - accuracy: 0.4379 - val_loss: 1.1884 - val_accuracy: 0.4178\n",
      "Epoch 19/20\n",
      "37/37 [==============================] - 0s 11ms/step - loss: 1.1834 - accuracy: 0.4393 - val_loss: 1.1851 - val_accuracy: 0.4254\n",
      "Epoch 20/20\n",
      "37/37 [==============================] - 0s 7ms/step - loss: 1.1797 - accuracy: 0.4357 - val_loss: 1.1641 - val_accuracy: 0.4529\n"
     ]
    }
   ],
   "source": [
    "#train the model\n",
    "history = Train.fit_model(model,X,dummy_y,epochs,batch_size,model_path)"
   ]
  },
  {
   "cell_type": "code",
   "execution_count": 12,
   "id": "b836f8e9-6ada-4bfd-afa0-f3ceb3c3cd6c",
   "metadata": {
    "tags": []
   },
   "outputs": [
    {
     "name": "stdout",
     "output_type": "stream",
     "text": [
      "143/143 [==============================] - 0s 2ms/step\n",
      "[0.33331066 0.35884896 0.0875381  0.22030225]\n",
      "1.0\n",
      "              precision    recall  f1-score   support\n",
      "\n",
      "           0       0.42      0.15      0.22      1140\n",
      "           1       0.42      0.78      0.54      1141\n",
      "           2       0.57      0.57      0.57      1138\n",
      "           3       0.38      0.29      0.33      1140\n",
      "\n",
      "    accuracy                           0.45      4559\n",
      "   macro avg       0.45      0.45      0.41      4559\n",
      "weighted avg       0.45      0.45      0.41      4559\n",
      "\n",
      "Kappa coefficient\n",
      "0.26265543224891896\n"
     ]
    }
   ],
   "source": [
    "#Obtain the model's results:\n",
    "#Recall\n",
    "#Precision\n",
    "#Accuracy\n",
    "#F1 Score\n",
    "#Kappa coefficient\n",
    "Train.results(model_path,X,dummy_y)"
   ]
  },
  {
   "cell_type": "code",
   "execution_count": null,
   "id": "d2d1e9a8-3a6e-449a-85f3-32df721f55b9",
   "metadata": {},
   "outputs": [],
   "source": []
  },
  {
   "cell_type": "code",
   "execution_count": null,
   "id": "4c50066b-a2a5-4a42-8b7f-17cf707b78be",
   "metadata": {},
   "outputs": [],
   "source": []
  },
  {
   "cell_type": "code",
   "execution_count": null,
   "id": "3f7e268a-4514-4ecd-8579-3ab57f2e0b59",
   "metadata": {},
   "outputs": [],
   "source": []
  }
 ],
 "metadata": {
  "kernelspec": {
   "display_name": "eurodatacube9-edc-g",
   "language": "python",
   "name": "conda-env-eurodatacube9-edc-g-py"
  },
  "language_info": {
   "codemirror_mode": {
    "name": "ipython",
    "version": 3
   },
   "file_extension": ".py",
   "mimetype": "text/x-python",
   "name": "python",
   "nbconvert_exporter": "python",
   "pygments_lexer": "ipython3",
   "version": "3.10.12"
  }
 },
 "nbformat": 4,
 "nbformat_minor": 5
}
