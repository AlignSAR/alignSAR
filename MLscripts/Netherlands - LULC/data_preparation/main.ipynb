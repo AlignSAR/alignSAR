{
 "cells": [
  {
   "cell_type": "code",
   "execution_count": null,
   "id": "a2b0af75-14ae-42fa-a368-49e59c0c36ae",
   "metadata": {
    "tags": []
   },
   "outputs": [],
   "source": [
    "\"\"\" CELL # 1 \"\"\"\n",
    "from data_preparation import Labeling\n",
    "from data_preparation import Filtering"
   ]
  },
  {
   "cell_type": "code",
   "execution_count": null,
   "id": "4c0125db-4c3e-4fe6-8f38-55d4cf41d0d9",
   "metadata": {
    "tags": []
   },
   "outputs": [],
   "source": [
    "\"\"\" CELL # 2 \"\"\"\n",
    "#path: Path where the netCDF file is stored\n",
    "#beware that this whole script, from CELL#3 until CELL#6\n",
    "#You could run it as a loop if you have the computational power\n",
    "#Create a list with all your NetCDF paths, where eache element is the path of each image and\n",
    "#run the script, like this:\n",
    "\n",
    "\"\"\"\n",
    "images = [./path/to/image_1.nc,\n",
    "          ./path/to/image_2.nc,\n",
    "          ...\n",
    "          ./path/to/image_n.nc]\n",
    "n_=0 #counter to save dinamically change the path where the csv will be stored based on the position of the element being analyzed in the foor loop\n",
    "\n",
    "for path in images:\n",
    "    groningen,xdf_ = Labeling.get_data(path)\n",
    "    th = 0.5\n",
    "    a=0\n",
    "    b=552250\n",
    "    labels_,counter_,df_reference_ = Labeling.obtain_labels(xdf_, th, a,b)\n",
    "    path_reference = '../data_test/reference_'+str(n_)+'.csv'\n",
    "    Labeling.create_csv(df_reference_,path_reference)\n",
    "    n_=n_+1\n",
    "\"\"\"\n",
    "\n",
    "\n",
    "path = '../data/Groningen_netcdf_20220109.nc'\n",
    "       #'../data/Groningen_netcdf_20220121.nc'\n",
    "       #'../data/Groningen_netcdf_20220202.nc'\n",
    "       #'../data/Groningen_netcdf_20220214.nc'\n",
    "       #'../data/Groningen_netcdf_20220226.nc'\n",
    "       #'../data/Groningen_netcdf_20220310.nc'\n",
    "       #'../data/Groningen_netcdf_20220322.nc'"
   ]
  },
  {
   "cell_type": "code",
   "execution_count": null,
   "id": "19652a13-b102-4462-8897-1daf98b6e0e4",
   "metadata": {
    "tags": []
   },
   "outputs": [],
   "source": [
    "\"\"\" CELL # 3 \"\"\"\n",
    "#Read data\n",
    "\n",
    "#groningen: netCDF data\n",
    "#xdf_: pandas dataframe containing all the netCDF data (all the layers for each pixel)\n",
    "groningen,xdf_ = Labeling.get_data(path)"
   ]
  },
  {
   "cell_type": "code",
   "execution_count": null,
   "id": "83d4c77c-9065-4cc7-a296-abb8f9836bd0",
   "metadata": {
    "tags": []
   },
   "outputs": [],
   "source": [
    "\"\"\" CELL # 4 \"\"\"\n",
    "\n",
    "#Obtain labels based on % of belonging to each class\n",
    "#if it is greater than a certain threshold it will be classified into the \n",
    "#corresponding class, if none of the classes is greater than the threshold\n",
    "#the pixel will be classified as \"undefined\"\n",
    "\n",
    "#th: threshold to define the beloging of a pixel to a specific class\n",
    "th = 0.5\n",
    "\n",
    "#Since the images are too big, it might be necessary to split the pixel label assignation\n",
    "#as the resources might be limited, specify a and b for this.\n",
    "#for example, the image being analyzed has a size of 2350 x 940, this means it has a \n",
    "#total of 2'209.000 pixels,thus in order to process all the image in our machine\n",
    "#we divide the total pixels in four chunks of size 552,250\n",
    "#so for the first iteration a=0 and b=552.250, \n",
    "#the second will be a=552.250 and b=1'104.500 and so on\n",
    "\n",
    "#NOTE: if you are doing a loop, you must do the loop n times, where n is the number\n",
    "#of chunks you divided your dataset into, and change the values of a and b correspondingly\n",
    "#in this case it would be FOUR times\n",
    "\n",
    "#a: starting pixel\n",
    "#b: ending pixel\n",
    "\n",
    "a=0\n",
    "b=552250\n",
    "labels_,counter_,df_reference_ = Labeling.obtain_labels(xdf_, th, a,b)"
   ]
  },
  {
   "cell_type": "code",
   "execution_count": null,
   "id": "45ef5f7e-391c-4ce7-a99d-ad051436c59c",
   "metadata": {
    "tags": []
   },
   "outputs": [],
   "source": [
    "\"\"\" CELL # 5 \"\"\"\n",
    "#Path to store the reference pixels for the given image\n",
    "#if you are in a loop dont modify anyting\n",
    "#if you aren't, modify this with the number of the netCDF being processed\n",
    "path_reference = '../data_test/reference_2.csv'"
   ]
  },
  {
   "cell_type": "code",
   "execution_count": null,
   "id": "8aadf4f5-aa57-4340-80b6-1a6156c4ccd3",
   "metadata": {
    "tags": []
   },
   "outputs": [],
   "source": [
    "\"\"\" CELL # 6 \"\"\"\n",
    "#Create csv with the labeled pixels for the given image\n",
    "Labeling.create_csv(df_reference_,path_reference)"
   ]
  },
  {
   "cell_type": "code",
   "execution_count": null,
   "id": "b0543761-1197-417c-b31a-e7f2b4674183",
   "metadata": {
    "tags": []
   },
   "outputs": [],
   "source": [
    "\"\"\" CELL # 7 \"\"\"\n",
    "\n",
    "#Paths where the labeled pixels are located, created from CELL#3 until CELL#6\n",
    "#This needs to be done just ONCE, out of any loop.\n",
    "\n",
    "data = ['../data3/reference_pixels_1.csv',\n",
    "        '../data3/reference_pixels_2.csv',\n",
    "        '../data3/reference_pixels_3.csv',\n",
    "        '../data3/reference_pixels_4.csv',\n",
    "        '../data3/reference_pixels_5.csv',\n",
    "        '../data3/reference_pixels_6.csv',\n",
    "        '../data3/reference_pixels_7.csv']"
   ]
  },
  {
   "cell_type": "code",
   "execution_count": null,
   "id": "0f1142f4-ce47-491b-994e-4e6055374d7e",
   "metadata": {
    "tags": []
   },
   "outputs": [],
   "source": [
    "\"\"\" CELL # 8 \"\"\"\n",
    "#read and concatenate data in one dataframe\n",
    "#df_: concatenated dataframe\n",
    "df_ =Filtering.get_data(data)"
   ]
  },
  {
   "cell_type": "code",
   "execution_count": null,
   "id": "d98a0bd5-9c13-4dcc-a729-bff4f92fe4f9",
   "metadata": {
    "tags": []
   },
   "outputs": [],
   "source": [
    "\"\"\" CELL # 9 \"\"\"\n",
    "\n",
    "#clean data and obtain counter of categories\n",
    "\n",
    "#cleaned dataframe, without nan values\n",
    "#counter: Counter with the number of elements per label\n",
    "clean,counter = Filtering.clean_data(df_)"
   ]
  },
  {
   "cell_type": "code",
   "execution_count": null,
   "id": "e35f6007-abfb-4e8c-9d1f-ec73a825e787",
   "metadata": {
    "tags": []
   },
   "outputs": [],
   "source": [
    "\"\"\" CELL # 10 \"\"\"\n",
    "\n",
    "#Path where the sampled data will be stored\n",
    "path_data=\"../data_test/undersampled.csv\""
   ]
  },
  {
   "cell_type": "code",
   "execution_count": null,
   "id": "48c0cbdd-d904-43f8-896d-32656b3d98ae",
   "metadata": {
    "tags": []
   },
   "outputs": [],
   "source": [
    "\"\"\" CELL # 11 \"\"\"\n",
    "\n",
    "#Undersample data based on the label that has the less amount of elements\n",
    "#in order to have a balanced dataset where each label represents an equal proportion of data\n",
    "result1 = Filtering.sample(clean,path_data,counter)"
   ]
  },
  {
   "cell_type": "code",
   "execution_count": null,
   "id": "2a69ea49-8232-4785-a446-ed7728fc06a6",
   "metadata": {},
   "outputs": [],
   "source": []
  }
 ],
 "metadata": {
  "kernelspec": {
   "display_name": "eurodatacube9-edc-g",
   "language": "python",
   "name": "conda-env-eurodatacube9-edc-g-py"
  },
  "language_info": {
   "codemirror_mode": {
    "name": "ipython",
    "version": 3
   },
   "file_extension": ".py",
   "mimetype": "text/x-python",
   "name": "python",
   "nbconvert_exporter": "python",
   "pygments_lexer": "ipython3",
   "version": "3.10.12"
  }
 },
 "nbformat": 4,
 "nbformat_minor": 5
}
