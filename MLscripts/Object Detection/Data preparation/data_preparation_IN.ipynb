{
 "cells": [
  {
   "cell_type": "code",
   "execution_count": null,
   "id": "8ddd56e0-fd61-4f62-8156-4a375f8296fa",
   "metadata": {
    "tags": []
   },
   "outputs": [],
   "source": [
    "import rioxarray\n",
    "import matplotlib.pyplot as plt\n",
    "import xarray as xr\n",
    "import numpy as np\n",
    "import matplotlib.cm as cm\n",
    "import netCDF4 as nc"
   ]
  },
  {
   "cell_type": "code",
   "execution_count": null,
   "id": "86300d86-e690-436d-bff3-2fb291ccff61",
   "metadata": {
    "tags": []
   },
   "outputs": [],
   "source": [
    "# single file\n",
    "x = '../data/sub_tiles/sample_20170129_1.npy'\n",
    "chennai_x  = np.load(x)\n",
    "\n",
    "attr = '../data/sub_tiles/Chennai_netcdf_20170117_full_attributes.nc'\n",
    "a = nc.Dataset(attr)"
   ]
  },
  {
   "cell_type": "code",
   "execution_count": null,
   "id": "cfa2e9a1-e3e6-4a2e-81c9-86ac54580c8d",
   "metadata": {
    "tags": []
   },
   "outputs": [],
   "source": [
    "aa = xr.open_dataset(attr)"
   ]
  },
  {
   "cell_type": "code",
   "execution_count": null,
   "id": "0288d5fc-b155-4d13-ad9d-8ffcc76bbb2e",
   "metadata": {
    "tags": []
   },
   "outputs": [],
   "source": [
    "aa"
   ]
  },
  {
   "cell_type": "code",
   "execution_count": null,
   "id": "93da2748-1fb8-4a6e-b825-32adb9852825",
   "metadata": {
    "tags": []
   },
   "outputs": [],
   "source": [
    "chennai_x"
   ]
  },
  {
   "cell_type": "code",
   "execution_count": null,
   "id": "4b4ec2c5-2be9-420c-84cf-46d61e1b4de8",
   "metadata": {
    "tags": []
   },
   "outputs": [],
   "source": [
    "l1 =aa.variables['VV amplitude (linear)']"
   ]
  },
  {
   "cell_type": "code",
   "execution_count": null,
   "id": "6a9b8cd7-154a-4023-9652-dcdb86672724",
   "metadata": {
    "tags": []
   },
   "outputs": [],
   "source": [
    "type(l1)"
   ]
  },
  {
   "cell_type": "code",
   "execution_count": null,
   "id": "afc21ace-0c32-45ba-a41d-5819cdfc8866",
   "metadata": {
    "tags": []
   },
   "outputs": [],
   "source": [
    "l1_ =aa.variables['Oil region']"
   ]
  },
  {
   "cell_type": "code",
   "execution_count": null,
   "id": "649061eb-c0e9-44bb-b688-2edd26cf994a",
   "metadata": {
    "tags": []
   },
   "outputs": [],
   "source": [
    "def plot_clipped(arr, per_min, per_max):\n",
    "    '''\n",
    " \n",
    "    :param arr:\n",
    "    :param per_min:\n",
    "    :param per_max:\n",
    "    :return:\n",
    "    '''\n",
    "    return np.clip(arr, *np.percentile(arr, (per_min, per_max)))"
   ]
  },
  {
   "cell_type": "code",
   "execution_count": null,
   "id": "804e48bf-9913-4ffb-8b88-3c2afb0adadd",
   "metadata": {
    "tags": []
   },
   "outputs": [],
   "source": [
    "plt.figure(figsize=(10,8))\n",
    "plt.subplot(121)\n",
    "plt.imshow(plot_clipped(chennai_x[-2], 0.5, 99.5), cmap ='gray')\n",
    "plt.subplot(122)\n",
    "plt.imshow(chennai_x[-1], cmap='gray')\n",
    "plt.show()"
   ]
  },
  {
   "cell_type": "code",
   "execution_count": null,
   "id": "6e3201a7-9d57-4812-b880-b93a6a642684",
   "metadata": {},
   "outputs": [],
   "source": [
    "plt.figure(figsize=(10,8))\n",
    "plt.subplot(121)\n",
    "plot_clipped = lambda x: np.clip(x, *np.percentile(x, (2.5, 97.5)))\n",
    "plt.imshow(plot_clipped(l1), cmap ='gray')\n",
    "plt.subplot(122)\n",
    "plt.imshow(l1_, cmap='gray')\n",
    "plt.show()"
   ]
  },
  {
   "cell_type": "code",
   "execution_count": null,
   "id": "7be1e95b-d554-4603-b807-949061af6b03",
   "metadata": {},
   "outputs": [],
   "source": [
    "plt.figure(figsize=(10,8))\n",
    "plt.subplot(121)\n",
    "plot_clipped = lambda x: np.clip(x, *np.percentile(x, (0.5, 99.5)))\n",
    "plt.imshow(plot_clipped(l1), cmap ='gray')\n",
    "plt.subplot(122)\n",
    "plt.imshow(l1_, cmap='gray')\n",
    "plt.show()"
   ]
  },
  {
   "cell_type": "code",
   "execution_count": null,
   "id": "5b6f509e-79c7-4a09-9f82-fe077d14a6df",
   "metadata": {},
   "outputs": [],
   "source": [
    "xarr = chennai_x.to_numpy()\n",
    "yarr = chennai_y.to_numpy()\n",
    "\n",
    "# Save mask as image\n",
    "plt.imsave(\"../data/chennai.tiff\", yarr, cmap=cm.gray)\n",
    "# Save input as image\n",
    "plt.imsave(\"../data/chennai_input.tiff\", xarr[:,:,0], cmap=cm.gray)"
   ]
  },
  {
   "cell_type": "code",
   "execution_count": null,
   "id": "d7c3e65a-8253-47d3-8fc2-6563f5666ff6",
   "metadata": {
    "tags": []
   },
   "outputs": [],
   "source": [
    "# Save mask as a numpy array \n",
    "yy= xr.load_dataset(y)\n",
    "yy = yy.to_array()\n",
    "nump_y=np.array(yy).ravel()\n"
   ]
  },
  {
   "cell_type": "code",
   "execution_count": null,
   "id": "e0b2395e-5155-4916-af8e-7fc55839f376",
   "metadata": {},
   "outputs": [],
   "source": [
    "# Save mask as image\n",
    "plt.imsave(\"../data/chennai.tiff\", np.array(nump_y).reshape(5000,10000), cmap=cm.gray)\n"
   ]
  },
  {
   "cell_type": "code",
   "execution_count": null,
   "id": "938861ce-bda6-496a-a1e0-15e43be14cc0",
   "metadata": {},
   "outputs": [],
   "source": [
    "# Save input image as numpy array\n",
    "xx= xr.load_dataset(x)\n",
    "xx = xx.to_array()\n",
    "nump_x=np.array(xx).ravel()"
   ]
  },
  {
   "cell_type": "code",
   "execution_count": null,
   "id": "29ddd357-2abc-4673-ae32-9c4e3608b871",
   "metadata": {},
   "outputs": [],
   "source": [
    "# Save input as image\n",
    "plt.imsave(\"../data/chennai_input.tiff\", np.array(nump_x).reshape(??,5000,10000), cmap=cm.gray)\n"
   ]
  },
  {
   "cell_type": "code",
   "execution_count": null,
   "id": "7eb54ae8-3347-49fb-bae5-ecc3989f1c72",
   "metadata": {},
   "outputs": [],
   "source": [
    "xx"
   ]
  },
  {
   "cell_type": "code",
   "execution_count": null,
   "id": "7c4b38f2-ed60-4ce0-bc9d-be6aef380ab7",
   "metadata": {},
   "outputs": [],
   "source": []
  }
 ],
 "metadata": {
  "kernelspec": {
   "display_name": "eurodatacube9-edc-g",
   "language": "python",
   "name": "conda-env-eurodatacube9-edc-g-py"
  },
  "language_info": {
   "codemirror_mode": {
    "name": "ipython",
    "version": 3
   },
   "file_extension": ".py",
   "mimetype": "text/x-python",
   "name": "python",
   "nbconvert_exporter": "python",
   "pygments_lexer": "ipython3",
   "version": "3.10.12"
  }
 },
 "nbformat": 4,
 "nbformat_minor": 5
}
