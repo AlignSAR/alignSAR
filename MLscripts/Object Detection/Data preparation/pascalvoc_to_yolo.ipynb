{
 "cells": [
  {
   "cell_type": "code",
   "execution_count": 1,
   "id": "4418f1ca-a6d5-4d7a-80bb-11481f1ea474",
   "metadata": {},
   "outputs": [],
   "source": [
    "import numpy as np\n",
    "import math\n",
    "import xmltodict\n",
    "\n",
    "import matplotlib.pyplot as plt\n",
    "import matplotlib.patches as patches\n",
    "import xarray as xr"
   ]
  },
  {
   "cell_type": "code",
   "execution_count": 4,
   "id": "bf72b02f-cf75-4c72-9805-64d131527394",
   "metadata": {},
   "outputs": [],
   "source": [
    "labels = '../data/chennai_label.xml'\n",
    "with open(labels, 'r') as file:\n",
    "    xml = file.read()"
   ]
  },
  {
   "cell_type": "code",
   "execution_count": 5,
   "id": "e9ccb637-7dd6-44aa-ab1e-dbbaa8ff93ef",
   "metadata": {},
   "outputs": [],
   "source": [
    "xml_dict = xmltodict.parse(xml)"
   ]
  },
  {
   "cell_type": "code",
   "execution_count": 8,
   "id": "7b17b79c-6b98-45c8-88a5-887210a4ad7b",
   "metadata": {},
   "outputs": [],
   "source": [
    "class_dict = {'oil_spill': 0}"
   ]
  },
  {
   "cell_type": "code",
   "execution_count": 49,
   "id": "64e015cc-9716-4f6f-82f4-8d58159173b0",
   "metadata": {},
   "outputs": [
    {
     "name": "stdout",
     "output_type": "stream",
     "text": [
      "{'type': 'robndbox', 'name': 'oil_spill', 'pose': 'Unspecified', 'truncated': '0', 'difficult': '0', 'robndbox': {'cx': '6179.6667', 'cy': '1236.5', 'w': '4260.0', 'h': '1447.0', 'angle': '0.0'}}\n",
      "0 0.6179666699999999 0.2473 0.426 0.2894\n",
      "\n",
      "{'type': 'robndbox', 'name': 'oil_spill', 'pose': 'Unspecified', 'truncated': '0', 'difficult': '0', 'robndbox': {'cx': '3628.2303', 'cy': '2529.4157', 'w': '1647.7768', 'h': '449.4157', 'angle': '2.851593'}}\n",
      "0 0.36282303 0.50588314 0.1707483460265801 0.1803669564131929\n",
      "\n",
      "{'type': 'robndbox', 'name': 'oil_spill', 'pose': 'Unspecified', 'truncated': '0', 'difficult': '0', 'robndbox': {'cx': '1737.0', 'cy': '3639.8333', 'w': '671.1156', 'h': '1073.4304', 'angle': '2.541593'}}\n",
      "0 0.1737 0.72796666 0.11599998268448666 0.2529761459300634\n",
      "\n",
      "{'type': 'robndbox', 'name': 'oil_spill', 'pose': 'Unspecified', 'truncated': '0', 'difficult': '0', 'robndbox': {'cx': '5793.0', 'cy': '3919.8333', 'w': '700.0', 'h': '667.0', 'angle': '0.0'}}\n",
      "0 0.5793 0.7839666599999999 0.07 0.1334\n",
      "\n",
      "{'type': 'robndbox', 'name': 'oil_spill', 'pose': 'Unspecified', 'truncated': '0', 'difficult': '0', 'robndbox': {'cx': '5873.0', 'cy': '4776.8333', 'w': '660.0', 'h': '407.0', 'angle': '0.0'}}\n",
      "0 0.5873 0.95536666 0.066 0.0814\n",
      "\n"
     ]
    }
   ],
   "source": [
    "img_w = int(xml_dict['annotation']['size']['width'])\n",
    "img_h = int(xml_dict['annotation']['size']['height'])\n",
    "\n",
    "labels_yolo = '../data/chennai_label.txt'\n",
    "coord = list()\n",
    "with open(labels_yolo, 'w') as file:\n",
    "    for bb in xml_dict['annotation']['object']:\n",
    "        class_num = class_dict[bb['name']]\n",
    "        x = float(bb['robndbox']['cx']) / img_w\n",
    "        y = float(bb['robndbox']['cy']) / img_h\n",
    "        width = float(bb['robndbox']['w'])\n",
    "        height = float(bb['robndbox']['h'])\n",
    "        angle = float(bb['robndbox']['angle'])\n",
    "        \n",
    "        w = (abs(width * math.cos(angle)) + abs(height * math.sin(angle)))\n",
    "        h = (abs(width * math.sin(angle)) + abs(height * math.cos(angle)))\n",
    "        \n",
    "        w /= img_w\n",
    "        h /= img_h\n",
    "        \n",
    "        coord.append([x, y, w, h])\n",
    "        line = f'{class_num} {x} {y} {w} {h}\\n'\n",
    "        print(bb)\n",
    "        print(line)\n",
    "        file.write(line)"
   ]
  },
  {
   "cell_type": "code",
   "execution_count": 26,
   "id": "7dc2991f-83fe-498a-ae52-92239ecfc142",
   "metadata": {},
   "outputs": [],
   "source": [
    "y = '../data/chennai_y.nc'\n",
    "chennai_y = xr.open_dataarray(y)"
   ]
  },
  {
   "cell_type": "code",
   "execution_count": 47,
   "id": "d94f62dc-118a-4eef-9256-dd8a9a6bdf27",
   "metadata": {},
   "outputs": [
    {
     "name": "stdout",
     "output_type": "stream",
     "text": [
      "4049.6666999999998 513.0\n",
      "2774.488569867099 2078.4983089670177\n",
      "1157.0000865775667 3007.392935174841\n",
      "5443.0 3586.3333\n",
      "5543.0 4573.3333\n"
     ]
    },
    {
     "data": {
      "image/png": "[encoded data removed]",
      "text/plain": [
       "<Figure size 640x480 with 1 Axes>"
      ]
     },
     "metadata": {},
     "output_type": "display_data"
    }
   ],
   "source": [
    "#Plot data\n",
    "fig, ax = plt.subplots()\n",
    "\n",
    "# Display the image\n",
    "ax.imshow(chennai_y)\n",
    "\n",
    "for c in coord:\n",
    "    w = c[2] * 10000\n",
    "    h = c[3] * 5000\n",
    "    x = (c[0] * 10000) - (w/2)\n",
    "    y = (c[1] * 5000) - (h/2)\n",
    "\n",
    "    # Create a Rectangle patch\n",
    "    rect = patches.Rectangle((x, y), w, h, linewidth=1, edgecolor='r', facecolor='none')\n",
    "\n",
    "    # Add the patch to the Axes\n",
    "    ax.add_patch(rect)\n",
    "\n",
    "plt.show()"
   ]
  }
 ],
 "metadata": {
  "kernelspec": {
   "display_name": "yolo_env_3_test",
   "language": "python",
   "name": "conda-env-yolo_env_3_test-py"
  },
  "language_info": {
   "codemirror_mode": {
    "name": "ipython",
    "version": 3
   },
   "file_extension": ".py",
   "mimetype": "text/x-python",
   "name": "python",
   "nbconvert_exporter": "python",
   "pygments_lexer": "ipython3",
   "version": "3.11.4"
  }
 },
 "nbformat": 4,
 "nbformat_minor": 5
}
