{
 "cells": [
  {
   "cell_type": "code",
   "execution_count": 1,
   "id": "c4505feb-a6d2-4689-b574-4edc00313d6c",
   "metadata": {
    "tags": []
   },
   "outputs": [],
   "source": [
    "import numpy as np\n",
    "import os\n",
    "import pandas as pd\n",
    "import collections"
   ]
  },
  {
   "cell_type": "code",
   "execution_count": 2,
   "id": "619b936c-0172-47e9-980b-47ff5c681a76",
   "metadata": {
    "tags": []
   },
   "outputs": [],
   "source": [
    "data = ['../data3/reference_pixels_1.csv',\n",
    "        '../data3/reference_pixels_2.csv',\n",
    "        '../data3/reference_pixels_3.csv',\n",
    "        '../data3/reference_pixels_4.csv',\n",
    "        '../data3/reference_pixels_5.csv',\n",
    "        '../data3/reference_pixels_6.csv',\n",
    "        '../data3/reference_pixels_7.csv']"
   ]
  },
  {
   "cell_type": "code",
   "execution_count": 3,
   "id": "1a33e9e5-de8f-46a3-b26f-e899ae8491d0",
   "metadata": {
    "tags": []
   },
   "outputs": [],
   "source": [
    "def get_data(data):\n",
    "    df_ = pd.DataFrame()\n",
    "    for i in data:\n",
    "        df = pd.read_csv(i,on_bad_lines='skip')\n",
    "        #df.head(5)\n",
    "        df_ = pd.concat([df_,df],ignore_index = True)\n",
    " \n",
    "\n",
    "    return df_"
   ]
  },
  {
   "cell_type": "code",
   "execution_count": 4,
   "id": "690b374b-3446-4bbe-83cd-02e07a4a941a",
   "metadata": {
    "tags": []
   },
   "outputs": [],
   "source": [
    "df_ = get_data(data)"
   ]
  },
  {
   "cell_type": "code",
   "execution_count": null,
   "id": "027e2a2d-80e7-4b39-b9a1-dff1d0c0f90f",
   "metadata": {
    "tags": []
   },
   "outputs": [
    {
     "name": "stdout",
     "output_type": "stream",
     "text": [
      "<class 'pandas.core.frame.DataFrame'>\n",
      "RangeIndex: 1276744 entries, 0 to 1276743\n",
      "Data columns (total 16 columns):\n",
      " #   Column                                      Non-Null Count    Dtype  \n",
      "---  ------                                      --------------    -----  \n",
      " 0   Unnamed: 0                                  1276744 non-null  int64  \n",
      " 1   VV amplitude (linear)                       1276744 non-null  float64\n",
      " 2   VH amplitude (linear)                       1276744 non-null  float64\n",
      " 3   VV interferometric phase (radians)          1276744 non-null  float64\n",
      " 4   VV coherence                                1276744 non-null  float64\n",
      " 5   Intensity summation                         1276744 non-null  float64\n",
      " 6   Intensity difference (dual-pol difference)  1276744 non-null  float64\n",
      " 7   Intensity ratio (dual-pol power ratio)      1276744 non-null  float64\n",
      " 8   Cross-pol correlation coefficient           1268022 non-null  float64\n",
      " 9   Cross-pol cross product                     1276744 non-null  float64\n",
      " 10  Entropy                                     1268022 non-null  float64\n",
      " 11  Buildings                                   1276744 non-null  float64\n",
      " 12  Railways                                    1276744 non-null  float64\n",
      " 13  Water                                       1276744 non-null  float64\n",
      " 14  Roads                                       1276744 non-null  float64\n",
      " 15  label                                       1276744 non-null  int64  \n",
      "dtypes: float64(14), int64(2)\n",
      "memory usage: 155.9 MB\n"
     ]
    }
   ],
   "source": [
    "df_.info()"
   ]
  },
  {
   "cell_type": "code",
   "execution_count": 6,
   "id": "01edcc11-f35b-4912-aefb-d695dc3dc4d2",
   "metadata": {
    "tags": []
   },
   "outputs": [],
   "source": [
    "def toDB(x):\n",
    "    return 10*(np.log10(x))"
   ]
  },
  {
   "cell_type": "code",
   "execution_count": 8,
   "id": "94d54711-4300-4180-9bfe-8ccaa7afadc0",
   "metadata": {
    "tags": []
   },
   "outputs": [],
   "source": [
    "def clean_data(df_):\n",
    "    #clean=df_.drop(['Unnamed: 0','Cross-pol correlation coefficient','Entropy','Buildings','Railways','Water','Roads'], axis=1)\n",
    "    clean=df_.drop(['Unnamed: 0','Cross-pol correlation coefficient','Entropy'], axis=1)\n",
    "    df_['VV amplitude (linear)'] = df_['VV amplitude (linear)'].apply(toDB)\n",
    "    df_['VH amplitude (linear)'] = df_['VH amplitude (linear)'].apply(toDB)\n",
    "    counter = collections.Counter(clean['label'])\n",
    "    return clean,counter"
   ]
  },
  {
   "cell_type": "code",
   "execution_count": 9,
   "id": "b95b3951-e95f-4501-8835-f7b8faf7bf68",
   "metadata": {
    "tags": []
   },
   "outputs": [
    {
     "name": "stderr",
     "output_type": "stream",
     "text": [
      "/tmp/ipykernel_5089/3108997866.py:2: RuntimeWarning: divide by zero encountered in log10\n",
      "  return 10*(np.log10(x))\n"
     ]
    }
   ],
   "source": [
    "clean,counter = clean_data(df_)"
   ]
  },
  {
   "cell_type": "code",
   "execution_count": null,
   "id": "a58b4d80-ae86-4c15-af27-7aa6e31ff877",
   "metadata": {
    "tags": []
   },
   "outputs": [],
   "source": [
    "clean = clean.drop(clean[clean['label'] == 4].index)"
   ]
  },
  {
   "cell_type": "code",
   "execution_count": null,
   "id": "15697961-5995-4333-8405-26a78752a626",
   "metadata": {
    "tags": []
   },
   "outputs": [],
   "source": []
  },
  {
   "cell_type": "code",
   "execution_count": null,
   "id": "d31843c8-0ff9-41f0-955a-cf4b7480118b",
   "metadata": {
    "tags": []
   },
   "outputs": [],
   "source": [
    "def prepare_data(clean)\n",
    "    clean.reset_index()\n",
    "\n",
    "    class_0 = clean[clean['label'] == 0]\n",
    "    class_1 = clean[clean['label'] == 1]\n",
    "    class_2 = clean[clean['label'] == 2]\n",
    "    class_3 = clean[clean['label'] == 3]\n",
    "\n",
    "\n",
    "    class_0=class_0.drop(['Railways','Water','Roads'], axis=1)\n",
    "    class_1=class_1.drop(['Buildings','Water','Roads'], axis=1)\n",
    "    class_2=class_2.drop(['Railways','Buildings','Roads'], axis=1)\n",
    "    class_3=class_3.drop(['Railways','Water','Buildings'], axis=1)\n",
    "\n",
    "    class_0 = class_0.sort_values(by=['Buildings'], ascending=False)\n",
    "    class_1 = class_1.sort_values(by=['Railway'], ascending=False)\n",
    "    class_2 = class_2.sort_values(by=['Water'], ascending=False)\n",
    "    class_3 = class_3.sort_values(by=['Roads'], ascending=False)\n",
    "\n",
    "    min_ = min(counter.values())\n",
    "\n",
    "    class_0_under = class_0.sample(min_)\n",
    "    class_2_under = class_2.sample(min_)\n",
    "    class_3_under = class_3.sample(min_)\n",
    "\n",
    "    frames = [class_0_under,class_1,class_2_under,class_3_under]\n",
    "    result = pd.concat(frames)\n",
    "    result=result.drop(['Buildings','Railways','Water','Roads'], axis=1)\n",
    "    result1 = result.sample(frac=1).reset_index(drop=True)\n",
    "    result1.to_csv(\"../data3/undersampled_max.csv\")\n",
    "    \n",
    "    return result1"
   ]
  },
  {
   "cell_type": "code",
   "execution_count": null,
   "id": "cb52113a-1acd-4498-8c47-fbd69cf9fb4e",
   "metadata": {},
   "outputs": [],
   "source": [
    "result1 = prepare_data(clean)"
   ]
  },
  {
   "cell_type": "code",
   "execution_count": null,
   "id": "781d6c68-1969-4a73-b28f-4f5ab38eec6f",
   "metadata": {
    "tags": []
   },
   "outputs": [],
   "source": [
    "def undersampling(clean,counter):\n",
    "    \n",
    "    min_ = min(counter.values())\n",
    "    class_0 = clean[clean['label'] == 0]\n",
    "    class_1 = clean[clean['label'] == 1]\n",
    "    class_2 = clean[clean['label'] == 2]\n",
    "    class_3 = clean[clean['label'] == 3]\n",
    "    class_4 = clean[clean['label'] == 4]\n",
    "    \n",
    "    class_0_under = class_0.sample(min_)\n",
    "    class_2_under = class_2.sample(min_)\n",
    "    class_3_under = class_3.sample(min_)\n",
    "    class_4_under = class_4.sample(min_)\n",
    "\n",
    "    return class_0_under,class_1,class_2_under,class_3_under,class_4_under\n"
   ]
  },
  {
   "cell_type": "code",
   "execution_count": null,
   "id": "f2c1749a-9641-485c-9d9c-0794810cb24b",
   "metadata": {
    "tags": []
   },
   "outputs": [],
   "source": [
    "c0,c1,c2,c3,c4 = undersampling(clean,counter)"
   ]
  },
  {
   "cell_type": "code",
   "execution_count": null,
   "id": "5a0095a8-65ab-49d7-8939-7a170153fbdc",
   "metadata": {
    "tags": []
   },
   "outputs": [],
   "source": [
    "def save_csv(c0,c1,c2,c3,c4):\n",
    "    frames = [c0,c1,c2,c3]\n",
    "    result = pd.concat(frames)\n",
    "    \n",
    "    result1 = result.sample(frac=1).reset_index(drop=True)\n",
    "    result1.to_csv(\"../data3/undersampled_nu.csv\")\n",
    "    #result1.to_csv(\"../data3/undersampled_no_und.csv\")\n",
    "    return result1"
   ]
  },
  {
   "cell_type": "code",
   "execution_count": null,
   "id": "0e92b2a1-0f88-4744-9d25-0c94df03e3c2",
   "metadata": {
    "tags": []
   },
   "outputs": [],
   "source": [
    "result = save_csv(c0,c1,c2,c3,c4)"
   ]
  },
  {
   "cell_type": "code",
   "execution_count": null,
   "id": "652a9f90-fd77-4c97-9b5e-c242b52a6acd",
   "metadata": {
    "tags": []
   },
   "outputs": [],
   "source": []
  },
  {
   "cell_type": "code",
   "execution_count": null,
   "id": "a9fdf267-9037-4700-b89e-5c869850ff12",
   "metadata": {},
   "outputs": [],
   "source": []
  },
  {
   "cell_type": "code",
   "execution_count": null,
   "id": "e12bb6c0-5ae6-45b1-a756-696df51c570c",
   "metadata": {},
   "outputs": [],
   "source": []
  }
 ],
 "metadata": {
  "kernelspec": {
   "display_name": "eurodatacube9-edc-g",
   "language": "python",
   "name": "conda-env-eurodatacube9-edc-g-py"
  },
  "language_info": {
   "codemirror_mode": {
    "name": "ipython",
    "version": 3
   },
   "file_extension": ".py",
   "mimetype": "text/x-python",
   "name": "python",
   "nbconvert_exporter": "python",
   "pygments_lexer": "ipython3",
   "version": "3.10.12"
  }
 },
 "nbformat": 4,
 "nbformat_minor": 5
}
