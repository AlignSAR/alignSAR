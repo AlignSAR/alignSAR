{
 "cells": [
  {
   "cell_type": "code",
   "execution_count": null,
   "id": "8ddd56e0-fd61-4f62-8156-4a375f8296fa",
   "metadata": {
    "tags": []
   },
   "outputs": [],
   "source": [
    "#!pip install progress progressbar2 alive-progress tqdm"
   ]
  },
  {
   "cell_type": "code",
   "execution_count": null,
   "id": "c4505feb-a6d2-4689-b574-4edc00313d6c",
   "metadata": {
    "tags": []
   },
   "outputs": [],
   "source": [
    "import rioxarray\n",
    "import matplotlib.pyplot as plt\n",
    "from netCDF4 import Dataset\n",
    "import xarray as xr\n",
    "import numpy as np\n",
    "import matplotlib.cm as cm\n",
    "import h5py\n",
    "import os\n",
    "import pandas as pd\n",
    "import collections, numpy\n",
    "#from progressbar import progressbar\n",
    "import time"
   ]
  },
  {
   "cell_type": "code",
   "execution_count": null,
   "id": "619b936c-0172-47e9-980b-47ff5c681a76",
   "metadata": {
    "tags": []
   },
   "outputs": [],
   "source": [
    "images = ['../data/Groningen_netcdf_20220109.nc',\n",
    "          '../data/Groningen_netcdf_20220121.nc',\n",
    "          '../data/Groningen_netcdf_20220202.nc',\n",
    "          '../data/Groningen_netcdf_20220214.nc',\n",
    "          '../data/Groningen_netcdf_20220226.nc',\n",
    "          '../data/Groningen_netcdf_20220310.nc',\n",
    "          '../data/Groningen_netcdf_20220322.nc']"
   ]
  },
  {
   "cell_type": "code",
   "execution_count": null,
   "id": "f13e0d6a-24e3-47dd-b98f-6b6e096ce5cb",
   "metadata": {
    "tags": []
   },
   "outputs": [],
   "source": [
    "#a = xr.open_dataarray(images[0])"
   ]
  },
  {
   "cell_type": "code",
   "execution_count": null,
   "id": "caeeafe4-6832-45c6-996b-0f8a554f8e61",
   "metadata": {
    "tags": []
   },
   "outputs": [],
   "source": [
    "#def plot_clipped(arr, per_min, per_max):\n",
    "#    '''\n",
    "# \n",
    "#    :param arr:\n",
    "#    :param per_min:\n",
    "#    :param per_max:\n",
    "#    :return:\n",
    "#    '''\n",
    "#    return np.clip(arr, *np.percentile(arr, (per_min, per_max)))"
   ]
  },
  {
   "cell_type": "code",
   "execution_count": null,
   "id": "9b823e05-a20e-4992-a95e-327cc3e2789e",
   "metadata": {
    "tags": []
   },
   "outputs": [],
   "source": [
    "#plt.figure(figsize=(10,8))\n",
    "#plt.subplot(121)\n",
    "#plt.imshow(plot_clipped(a[...,0], 0.5, 99.5), cmap ='gray')\n",
    "#plt.show()"
   ]
  },
  {
   "cell_type": "code",
   "execution_count": null,
   "id": "1a33e9e5-de8f-46a3-b26f-e899ae8491d0",
   "metadata": {
    "tags": []
   },
   "outputs": [],
   "source": [
    "def get_data(x,c):\n",
    "    # single file\n",
    "    groningen_x1 = xr.open_dataarray(x)\n",
    "    xarr = groningen_x1.to_numpy()\n",
    "    \n",
    "    # Save input as image\n",
    "    #plt.imsave(\"../data/groningen_input\"+str(c)+\".tiff\", xarr[:,:,0], cmap=cm.gray)\n",
    "    \n",
    "    xarr_df = np.reshape(xarr, (xarr.shape[0]*xarr.shape[1],xarr.shape[2]))\n",
    "    xdf = pd.DataFrame(xarr_df, columns=groningen_x1.signatures.to_numpy())\n",
    "    \n",
    "    # Save input image as numpy array\n",
    "    xx= xr.load_dataset(x)\n",
    "    xx = xx.to_array()\n",
    "    nump_x=np.array(xx).ravel()\n",
    "\n",
    "    return groningen_x1,xdf"
   ]
  },
  {
   "cell_type": "code",
   "execution_count": null,
   "id": "86300d86-e690-436d-bff3-2fb291ccff61",
   "metadata": {
    "tags": []
   },
   "outputs": [],
   "source": [
    "def obtain_labels(xdf, th):\n",
    "    a = 0\n",
    "    b = 500000\n",
    "    #b = len(xdf)\n",
    "    print(xdf.head())\n",
    "    xdf = xdf[a:b]\n",
    "    print(xdf.head())\n",
    "    xdf = xdf.reset_index()\n",
    "    print(xdf.head())\n",
    "    buildings = xdf['Buildings']\n",
    "    \n",
    "    railways = xdf['Railways']\n",
    "    water = xdf['Water']\n",
    "    roads = xdf['Roads']\n",
    "    df_np=xdf.to_numpy()\n",
    "    df_reference = []\n",
    "    l = []\n",
    "    for i in range(b-a):\n",
    "        if i%1000==0:\n",
    "            msg = \"Loading \" + str(i) + \" images\\n\"\n",
    "            with open('../log/log_file3.txt', 'a') as f:\n",
    "                f.write(msg)\n",
    "        if buildings[i] >= th:\n",
    "            #a_label = [1,0,0,0,0]\n",
    "            l.append(0)\n",
    "            df_reference.append(df_np[i])\n",
    "        if railways[i] >= th:\n",
    "            #a_label = [0,1,0,0,0]\n",
    "            l.append(1)\n",
    "            df_reference.append(df_np[i])\n",
    "        if water[i] >= th:\n",
    "            #a_label = [0,0,1,0,0]\n",
    "            l.append(2)\n",
    "            df_reference.append(df_np[i])\n",
    "        if roads[i] >= th:\n",
    "            #a_label = [0,0,0,1,0]\n",
    "            l.append(3)\n",
    "            df_reference.append(df_np[i])\n",
    "        if buildings[i] == 0 and railways[i] == 0 and water[i] == 0 and roads[i] ==0:\n",
    "            #a_label = [0,0,0,0,1]\n",
    "            l.append(4)\n",
    "            df_reference.append(df_np[i])\n",
    "        counter = collections.Counter(l)\n",
    "    df_l_r = pd.DataFrame(df_reference,columns=list(xdf.columns))\n",
    "    df_l_r['label']=l\n",
    "    df_l_r.drop(['Buildings','Railways','Water','Roads'], axis=1)\n",
    "    return l,counter, df_l_r"
   ]
  },
  {
   "cell_type": "code",
   "execution_count": null,
   "id": "a2b0af75-14ae-42fa-a368-49e59c0c36ae",
   "metadata": {
    "tags": []
   },
   "outputs": [],
   "source": [
    "def create_csv(xdf,c):\n",
    "    #Save all features\n",
    "    # Remove two columns name is 'C' and 'D'\n",
    "    #xdf.drop(['Buildings','Railways','Water','Roads'], axis=1)\n",
    "    #print(xdf.head())\n",
    "    with open('../data3/reference_pixels_A_'+str(c)+'.csv', 'a') as f:\n",
    "        xdf.to_csv(f, header=False)\n",
    "    \n",
    "    msg = \"%%%%%%%%%%%%%%%Image \" + str(c) + \" done%%%%%%%%%%%%%%%\"\n",
    "    with open('../log/log_file3.txt', 'a') as f:\n",
    "        f.write(msg)\n",
    "    "
   ]
  },
  {
   "cell_type": "code",
   "execution_count": null,
   "id": "7eb54ae8-3347-49fb-bae5-ecc3989f1c72",
   "metadata": {
    "tags": []
   },
   "outputs": [],
   "source": [
    "#xdf_=[None]*len(images)\n",
    "#labels_=[None]*len(images)\n",
    "#counter_=[None]*len(images)\n",
    "#reshaped_=[None]*len(images)\n",
    "\n",
    "xdf_=None\n",
    "labels_=None\n",
    "counter_=None\n",
    "reshaped_=None\n",
    "df_reference_=None\n",
    "c=1\n",
    "for x in images:\n",
    "    print('#############################')\n",
    "    groningen,xdf_ = get_data(x,c)\n",
    "    s = time.time()\n",
    "    labels_,counter_,df_reference_ = obtain_labels(xdf_,0.5)\n",
    "    e = time.time()\n",
    "    create_csv(df_reference_,c)\n",
    "    c = c+1\n",
    "    print(counter_)\n",
    "    "
   ]
  },
  {
   "cell_type": "code",
   "execution_count": null,
   "id": "fb6171c8-3c8d-4e3f-a14e-9023a57c97c6",
   "metadata": {},
   "outputs": [],
   "source": [
    "print(e-s)"
   ]
  },
  {
   "cell_type": "code",
   "execution_count": null,
   "id": "f79f407b-3dfb-4daa-bba7-179a8539d196",
   "metadata": {},
   "outputs": [],
   "source": []
  }
 ],
 "metadata": {
  "kernelspec": {
   "display_name": "eurodatacube9-edc-g",
   "language": "python",
   "name": "conda-env-eurodatacube9-edc-g-py"
  },
  "language_info": {
   "codemirror_mode": {
    "name": "ipython",
    "version": 3
   },
   "file_extension": ".py",
   "mimetype": "text/x-python",
   "name": "python",
   "nbconvert_exporter": "python",
   "pygments_lexer": "ipython3",
   "version": "3.10.12"
  }
 },
 "nbformat": 4,
 "nbformat_minor": 5
}
